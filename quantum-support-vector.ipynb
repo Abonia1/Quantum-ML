{
 "cells": [
  {
   "cell_type": "code",
   "execution_count": 1,
   "id": "4b27b3f5",
   "metadata": {
    "execution": {
     "iopub.execute_input": "2023-01-09T14:00:09.816435Z",
     "iopub.status.busy": "2023-01-09T14:00:09.815982Z",
     "iopub.status.idle": "2023-01-09T14:00:40.937019Z",
     "shell.execute_reply": "2023-01-09T14:00:40.935504Z"
    },
    "papermill": {
     "duration": 31.130836,
     "end_time": "2023-01-09T14:00:40.940153",
     "exception": false,
     "start_time": "2023-01-09T14:00:09.809317",
     "status": "completed"
    },
    "tags": []
   },
   "outputs": [
    {
     "name": "stdout",
     "output_type": "stream",
     "text": [
      "Collecting qiskit\r\n",
      "  Downloading qiskit-0.39.4.tar.gz (13 kB)\r\n",
      "  Preparing metadata (setup.py) ... \u001b[?25l-\b \bdone\r\n",
      "\u001b[?25hCollecting qiskit-terra==0.22.3\r\n",
      "  Downloading qiskit_terra-0.22.3-cp37-cp37m-manylinux_2_17_x86_64.manylinux2014_x86_64.whl (4.8 MB)\r\n",
      "\u001b[2K     \u001b[90m━━━━━━━━━━━━━━━━━━━━━━━━━━━━━━━━━━━━━━━━\u001b[0m \u001b[32m4.8/4.8 MB\u001b[0m \u001b[31m4.0 MB/s\u001b[0m eta \u001b[36m0:00:00\u001b[0m\r\n",
      "\u001b[?25hCollecting qiskit-aer==0.11.2\r\n",
      "  Downloading qiskit_aer-0.11.2-cp37-cp37m-manylinux_2_17_x86_64.manylinux2014_x86_64.whl (12.8 MB)\r\n",
      "\u001b[2K     \u001b[90m━━━━━━━━━━━━━━━━━━━━━━━━━━━━━━━━━━━━━━━━\u001b[0m \u001b[32m12.8/12.8 MB\u001b[0m \u001b[31m13.2 MB/s\u001b[0m eta \u001b[36m0:00:00\u001b[0m\r\n",
      "\u001b[?25hCollecting qiskit-ibmq-provider==0.19.2\r\n",
      "  Downloading qiskit_ibmq_provider-0.19.2-py3-none-any.whl (240 kB)\r\n",
      "\u001b[2K     \u001b[90m━━━━━━━━━━━━━━━━━━━━━━━━━━━━━━━━━━━━━━\u001b[0m \u001b[32m240.4/240.4 kB\u001b[0m \u001b[31m17.8 MB/s\u001b[0m eta \u001b[36m0:00:00\u001b[0m\r\n",
      "\u001b[?25hRequirement already satisfied: scipy>=1.0 in /opt/conda/lib/python3.7/site-packages (from qiskit-aer==0.11.2->qiskit) (1.7.3)\r\n",
      "Requirement already satisfied: numpy>=1.16.3 in /opt/conda/lib/python3.7/site-packages (from qiskit-aer==0.11.2->qiskit) (1.21.6)\r\n",
      "Requirement already satisfied: urllib3>=1.21.1 in /opt/conda/lib/python3.7/site-packages (from qiskit-ibmq-provider==0.19.2->qiskit) (1.26.13)\r\n",
      "Collecting requests-ntlm>=1.1.0\r\n",
      "  Downloading requests_ntlm-1.1.0-py2.py3-none-any.whl (5.7 kB)\r\n",
      "Requirement already satisfied: python-dateutil>=2.8.0 in /opt/conda/lib/python3.7/site-packages (from qiskit-ibmq-provider==0.19.2->qiskit) (2.8.2)\r\n",
      "Requirement already satisfied: websocket-client>=1.0.1 in /opt/conda/lib/python3.7/site-packages (from qiskit-ibmq-provider==0.19.2->qiskit) (1.3.3)\r\n",
      "Requirement already satisfied: websockets>=10.0 in /opt/conda/lib/python3.7/site-packages (from qiskit-ibmq-provider==0.19.2->qiskit) (10.4)\r\n",
      "Requirement already satisfied: requests>=2.19 in /opt/conda/lib/python3.7/site-packages (from qiskit-ibmq-provider==0.19.2->qiskit) (2.28.1)\r\n",
      "Collecting tweedledum<2.0,>=1.1\r\n",
      "  Downloading tweedledum-1.1.1-cp37-cp37m-manylinux_2_12_x86_64.manylinux2010_x86_64.whl (943 kB)\r\n",
      "\u001b[2K     \u001b[90m━━━━━━━━━━━━━━━━━━━━━━━━━━━━━━━━━━━━━━\u001b[0m \u001b[32m943.8/943.8 kB\u001b[0m \u001b[31m43.0 MB/s\u001b[0m eta \u001b[36m0:00:00\u001b[0m\r\n",
      "\u001b[?25hRequirement already satisfied: dill>=0.3 in /opt/conda/lib/python3.7/site-packages (from qiskit-terra==0.22.3->qiskit) (0.3.6)\r\n",
      "Collecting symengine>=0.9\r\n",
      "  Downloading symengine-0.9.2-cp37-cp37m-manylinux2010_x86_64.whl (37.5 MB)\r\n",
      "\u001b[2K     \u001b[90m━━━━━━━━━━━━━━━━━━━━━━━━━━━━━━━━━━━━━━━━\u001b[0m \u001b[32m37.5/37.5 MB\u001b[0m \u001b[31m10.6 MB/s\u001b[0m eta \u001b[36m0:00:00\u001b[0m\r\n",
      "\u001b[?25hRequirement already satisfied: importlib-metadata<5.0 in /opt/conda/lib/python3.7/site-packages (from qiskit-terra==0.22.3->qiskit) (4.13.0)\r\n",
      "Requirement already satisfied: psutil>=5 in /opt/conda/lib/python3.7/site-packages (from qiskit-terra==0.22.3->qiskit) (5.9.1)\r\n",
      "Requirement already satisfied: stevedore>=3.0.0 in /opt/conda/lib/python3.7/site-packages (from qiskit-terra==0.22.3->qiskit) (3.5.2)\r\n",
      "Collecting ply>=3.10\r\n",
      "  Downloading ply-3.11-py2.py3-none-any.whl (49 kB)\r\n",
      "\u001b[2K     \u001b[90m━━━━━━━━━━━━━━━━━━━━━━━━━━━━━━━━━━━━━━━━\u001b[0m \u001b[32m49.6/49.6 kB\u001b[0m \u001b[31m4.3 MB/s\u001b[0m eta \u001b[36m0:00:00\u001b[0m\r\n",
      "\u001b[?25hRequirement already satisfied: typing-extensions in /opt/conda/lib/python3.7/site-packages (from qiskit-terra==0.22.3->qiskit) (4.1.1)\r\n",
      "Collecting retworkx>=0.11.0\r\n",
      "  Downloading retworkx-0.12.1-py3-none-any.whl (10 kB)\r\n",
      "Requirement already satisfied: sympy>=1.3 in /opt/conda/lib/python3.7/site-packages (from qiskit-terra==0.22.3->qiskit) (1.10.1)\r\n",
      "Collecting shared-memory38\r\n",
      "  Downloading shared_memory38-0.1.2-cp37-cp37m-manylinux_2_5_x86_64.manylinux1_x86_64.whl (25 kB)\r\n",
      "Requirement already satisfied: zipp>=0.5 in /opt/conda/lib/python3.7/site-packages (from importlib-metadata<5.0->qiskit-terra==0.22.3->qiskit) (3.8.0)\r\n",
      "Requirement already satisfied: six>=1.5 in /opt/conda/lib/python3.7/site-packages (from python-dateutil>=2.8.0->qiskit-ibmq-provider==0.19.2->qiskit) (1.15.0)\r\n",
      "Requirement already satisfied: idna<4,>=2.5 in /opt/conda/lib/python3.7/site-packages (from requests>=2.19->qiskit-ibmq-provider==0.19.2->qiskit) (3.3)\r\n",
      "Requirement already satisfied: certifi>=2017.4.17 in /opt/conda/lib/python3.7/site-packages (from requests>=2.19->qiskit-ibmq-provider==0.19.2->qiskit) (2022.12.7)\r\n",
      "Requirement already satisfied: charset-normalizer<3,>=2 in /opt/conda/lib/python3.7/site-packages (from requests>=2.19->qiskit-ibmq-provider==0.19.2->qiskit) (2.1.0)\r\n",
      "Requirement already satisfied: cryptography>=1.3 in /opt/conda/lib/python3.7/site-packages (from requests-ntlm>=1.1.0->qiskit-ibmq-provider==0.19.2->qiskit) (37.0.2)\r\n",
      "Collecting ntlm-auth>=1.0.2\r\n",
      "  Downloading ntlm_auth-1.5.0-py2.py3-none-any.whl (29 kB)\r\n",
      "Collecting rustworkx==0.12.1\r\n",
      "  Downloading rustworkx-0.12.1-cp37-cp37m-manylinux_2_17_x86_64.manylinux2014_x86_64.whl (1.9 MB)\r\n",
      "\u001b[2K     \u001b[90m━━━━━━━━━━━━━━━━━━━━━━━━━━━━━━━━━━━━━━━━\u001b[0m \u001b[32m1.9/1.9 MB\u001b[0m \u001b[31m44.6 MB/s\u001b[0m eta \u001b[36m0:00:00\u001b[0m\r\n",
      "\u001b[?25hRequirement already satisfied: pbr!=2.1.0,>=2.0.0 in /opt/conda/lib/python3.7/site-packages (from stevedore>=3.0.0->qiskit-terra==0.22.3->qiskit) (5.11.0)\r\n",
      "Requirement already satisfied: mpmath>=0.19 in /opt/conda/lib/python3.7/site-packages (from sympy>=1.3->qiskit-terra==0.22.3->qiskit) (1.2.1)\r\n",
      "Requirement already satisfied: cffi>=1.12 in /opt/conda/lib/python3.7/site-packages (from cryptography>=1.3->requests-ntlm>=1.1.0->qiskit-ibmq-provider==0.19.2->qiskit) (1.15.0)\r\n",
      "Requirement already satisfied: pycparser in /opt/conda/lib/python3.7/site-packages (from cffi>=1.12->cryptography>=1.3->requests-ntlm>=1.1.0->qiskit-ibmq-provider==0.19.2->qiskit) (2.21)\r\n",
      "Building wheels for collected packages: qiskit\r\n",
      "  Building wheel for qiskit (setup.py) ... \u001b[?25l-\b \b\\\b \bdone\r\n",
      "\u001b[?25h  Created wheel for qiskit: filename=qiskit-0.39.4-py3-none-any.whl size=12274 sha256=9509f42b3e61d49b192e6326f8a6c9f5e17f4534ecb9370248f6115bf337789d\r\n",
      "  Stored in directory: /root/.cache/pip/wheels/de/e2/bc/795993e2fc0f60127e9f418d52ba163246c910e81a53e859f4\r\n",
      "Successfully built qiskit\r\n",
      "Installing collected packages: shared-memory38, ply, tweedledum, symengine, rustworkx, ntlm-auth, retworkx, requests-ntlm, qiskit-terra, qiskit-ibmq-provider, qiskit-aer, qiskit\r\n",
      "Successfully installed ntlm-auth-1.5.0 ply-3.11 qiskit-0.39.4 qiskit-aer-0.11.2 qiskit-ibmq-provider-0.19.2 qiskit-terra-0.22.3 requests-ntlm-1.1.0 retworkx-0.12.1 rustworkx-0.12.1 shared-memory38-0.1.2 symengine-0.9.2 tweedledum-1.1.1\r\n",
      "\u001b[33mWARNING: Running pip as the 'root' user can result in broken permissions and conflicting behaviour with the system package manager. It is recommended to use a virtual environment instead: https://pip.pypa.io/warnings/venv\u001b[0m\u001b[33m\r\n",
      "\u001b[0m"
     ]
    }
   ],
   "source": [
    "!pip install qiskit"
   ]
  },
  {
   "cell_type": "code",
   "execution_count": 2,
   "id": "ebf0f870",
   "metadata": {
    "execution": {
     "iopub.execute_input": "2023-01-09T14:00:40.966700Z",
     "iopub.status.busy": "2023-01-09T14:00:40.966278Z",
     "iopub.status.idle": "2023-01-09T14:01:10.848245Z",
     "shell.execute_reply": "2023-01-09T14:01:10.846896Z"
    },
    "papermill": {
     "duration": 29.898889,
     "end_time": "2023-01-09T14:01:10.851492",
     "exception": false,
     "start_time": "2023-01-09T14:00:40.952603",
     "status": "completed"
    },
    "tags": []
   },
   "outputs": [
    {
     "name": "stdout",
     "output_type": "stream",
     "text": [
      "Collecting qiskit_machine_learning\r\n",
      "  Downloading qiskit_machine_learning-0.5.0-py3-none-any.whl (152 kB)\r\n",
      "\u001b[2K     \u001b[90m━━━━━━━━━━━━━━━━━━━━━━━━━━━━━━━━━━━━━\u001b[0m \u001b[32m152.8/152.8 kB\u001b[0m \u001b[31m373.7 kB/s\u001b[0m eta \u001b[36m0:00:00\u001b[0m\r\n",
      "\u001b[?25hCollecting fastdtw\r\n",
      "  Downloading fastdtw-0.3.4.tar.gz (133 kB)\r\n",
      "\u001b[2K     \u001b[90m━━━━━━━━━━━━━━━━━━━━━━━━━━━━━━━━━━━━━━━\u001b[0m \u001b[32m133.4/133.4 kB\u001b[0m \u001b[31m1.8 MB/s\u001b[0m eta \u001b[36m0:00:00\u001b[0m\r\n",
      "\u001b[?25h  Preparing metadata (setup.py) ... \u001b[?25l-\b \b\\\b \bdone\r\n",
      "\u001b[?25hRequirement already satisfied: numpy>=1.17 in /opt/conda/lib/python3.7/site-packages (from qiskit_machine_learning) (1.21.6)\r\n",
      "Requirement already satisfied: qiskit-terra>=0.22 in /opt/conda/lib/python3.7/site-packages (from qiskit_machine_learning) (0.22.3)\r\n",
      "Requirement already satisfied: scipy>=1.4 in /opt/conda/lib/python3.7/site-packages (from qiskit_machine_learning) (1.7.3)\r\n",
      "Requirement already satisfied: scikit-learn>=0.20.0 in /opt/conda/lib/python3.7/site-packages (from qiskit_machine_learning) (1.0.2)\r\n",
      "Requirement already satisfied: setuptools>=40.1.0 in /opt/conda/lib/python3.7/site-packages (from qiskit_machine_learning) (59.8.0)\r\n",
      "Requirement already satisfied: psutil>=5 in /opt/conda/lib/python3.7/site-packages (from qiskit_machine_learning) (5.9.1)\r\n",
      "Collecting dill<0.3.6,>=0.3.4\r\n",
      "  Downloading dill-0.3.5.1-py2.py3-none-any.whl (95 kB)\r\n",
      "\u001b[2K     \u001b[90m━━━━━━━━━━━━━━━━━━━━━━━━━━━━━━━━━━━━━━━━\u001b[0m \u001b[32m95.8/95.8 kB\u001b[0m \u001b[31m2.4 MB/s\u001b[0m eta \u001b[36m0:00:00\u001b[0m\r\n",
      "\u001b[?25hRequirement already satisfied: shared-memory38 in /opt/conda/lib/python3.7/site-packages (from qiskit-terra>=0.22->qiskit_machine_learning) (0.1.2)\r\n",
      "Requirement already satisfied: sympy>=1.3 in /opt/conda/lib/python3.7/site-packages (from qiskit-terra>=0.22->qiskit_machine_learning) (1.10.1)\r\n",
      "Requirement already satisfied: symengine>=0.9 in /opt/conda/lib/python3.7/site-packages (from qiskit-terra>=0.22->qiskit_machine_learning) (0.9.2)\r\n",
      "Requirement already satisfied: ply>=3.10 in /opt/conda/lib/python3.7/site-packages (from qiskit-terra>=0.22->qiskit_machine_learning) (3.11)\r\n",
      "Requirement already satisfied: importlib-metadata<5.0 in /opt/conda/lib/python3.7/site-packages (from qiskit-terra>=0.22->qiskit_machine_learning) (4.13.0)\r\n",
      "Requirement already satisfied: python-dateutil>=2.8.0 in /opt/conda/lib/python3.7/site-packages (from qiskit-terra>=0.22->qiskit_machine_learning) (2.8.2)\r\n",
      "Requirement already satisfied: typing-extensions in /opt/conda/lib/python3.7/site-packages (from qiskit-terra>=0.22->qiskit_machine_learning) (4.1.1)\r\n",
      "Requirement already satisfied: stevedore>=3.0.0 in /opt/conda/lib/python3.7/site-packages (from qiskit-terra>=0.22->qiskit_machine_learning) (3.5.2)\r\n",
      "Requirement already satisfied: tweedledum<2.0,>=1.1 in /opt/conda/lib/python3.7/site-packages (from qiskit-terra>=0.22->qiskit_machine_learning) (1.1.1)\r\n",
      "Requirement already satisfied: retworkx>=0.11.0 in /opt/conda/lib/python3.7/site-packages (from qiskit-terra>=0.22->qiskit_machine_learning) (0.12.1)\r\n",
      "Requirement already satisfied: joblib>=0.11 in /opt/conda/lib/python3.7/site-packages (from scikit-learn>=0.20.0->qiskit_machine_learning) (1.0.1)\r\n",
      "Requirement already satisfied: threadpoolctl>=2.0.0 in /opt/conda/lib/python3.7/site-packages (from scikit-learn>=0.20.0->qiskit_machine_learning) (3.1.0)\r\n",
      "Requirement already satisfied: zipp>=0.5 in /opt/conda/lib/python3.7/site-packages (from importlib-metadata<5.0->qiskit-terra>=0.22->qiskit_machine_learning) (3.8.0)\r\n",
      "Requirement already satisfied: six>=1.5 in /opt/conda/lib/python3.7/site-packages (from python-dateutil>=2.8.0->qiskit-terra>=0.22->qiskit_machine_learning) (1.15.0)\r\n",
      "Requirement already satisfied: rustworkx==0.12.1 in /opt/conda/lib/python3.7/site-packages (from retworkx>=0.11.0->qiskit-terra>=0.22->qiskit_machine_learning) (0.12.1)\r\n",
      "Requirement already satisfied: pbr!=2.1.0,>=2.0.0 in /opt/conda/lib/python3.7/site-packages (from stevedore>=3.0.0->qiskit-terra>=0.22->qiskit_machine_learning) (5.11.0)\r\n",
      "Requirement already satisfied: mpmath>=0.19 in /opt/conda/lib/python3.7/site-packages (from sympy>=1.3->qiskit-terra>=0.22->qiskit_machine_learning) (1.2.1)\r\n",
      "Building wheels for collected packages: fastdtw\r\n",
      "  Building wheel for fastdtw (setup.py) ... \u001b[?25l-\b \b\\\b \b|\b \b/\b \b-\b \bdone\r\n",
      "\u001b[?25h  Created wheel for fastdtw: filename=fastdtw-0.3.4-cp37-cp37m-linux_x86_64.whl size=526032 sha256=092c362337f0b7bd2b820226b8a73f5d6928a801096c1441f3ee61167db8e05e\r\n",
      "  Stored in directory: /root/.cache/pip/wheels/a2/da/8c/2d1b9b233595056f05e59156bb555f7277b88beb385605de16\r\n",
      "Successfully built fastdtw\r\n",
      "Installing collected packages: fastdtw, dill, qiskit_machine_learning\r\n",
      "  Attempting uninstall: dill\r\n",
      "    Found existing installation: dill 0.3.6\r\n",
      "    Uninstalling dill-0.3.6:\r\n",
      "      Successfully uninstalled dill-0.3.6\r\n",
      "\u001b[31mERROR: pip's dependency resolver does not currently take into account all the packages that are installed. This behaviour is the source of the following dependency conflicts.\r\n",
      "pathos 0.3.0 requires dill>=0.3.6, but you have dill 0.3.5.1 which is incompatible.\r\n",
      "multiprocess 0.70.14 requires dill>=0.3.6, but you have dill 0.3.5.1 which is incompatible.\r\n",
      "apache-beam 2.40.0 requires dill<0.3.2,>=0.3.1.1, but you have dill 0.3.5.1 which is incompatible.\r\n",
      "apache-beam 2.40.0 requires pyarrow<8.0.0,>=0.15.1, but you have pyarrow 8.0.0 which is incompatible.\u001b[0m\u001b[31m\r\n",
      "\u001b[0mSuccessfully installed dill-0.3.5.1 fastdtw-0.3.4 qiskit_machine_learning-0.5.0\r\n",
      "\u001b[33mWARNING: Running pip as the 'root' user can result in broken permissions and conflicting behaviour with the system package manager. It is recommended to use a virtual environment instead: https://pip.pypa.io/warnings/venv\u001b[0m\u001b[33m\r\n",
      "\u001b[0m"
     ]
    }
   ],
   "source": [
    "!pip install qiskit_machine_learning"
   ]
  },
  {
   "cell_type": "code",
   "execution_count": 3,
   "id": "bf4f9ebb",
   "metadata": {
    "execution": {
     "iopub.execute_input": "2023-01-09T14:01:10.882136Z",
     "iopub.status.busy": "2023-01-09T14:01:10.881194Z",
     "iopub.status.idle": "2023-01-09T14:01:12.722643Z",
     "shell.execute_reply": "2023-01-09T14:01:12.721435Z"
    },
    "papermill": {
     "duration": 1.859955,
     "end_time": "2023-01-09T14:01:12.725636",
     "exception": false,
     "start_time": "2023-01-09T14:01:10.865681",
     "status": "completed"
    },
    "tags": []
   },
   "outputs": [],
   "source": [
    "from qiskit import BasicAer\n",
    "from qiskit.circuit.library import ZZFeatureMap\n",
    "from qiskit.utils import QuantumInstance, algorithm_globals\n",
    "from qiskit_machine_learning.algorithms import QSVC\n",
    "from qiskit_machine_learning.kernels import QuantumKernel"
   ]
  },
  {
   "cell_type": "code",
   "execution_count": 4,
   "id": "c1b73ed0",
   "metadata": {
    "execution": {
     "iopub.execute_input": "2023-01-09T14:01:12.758884Z",
     "iopub.status.busy": "2023-01-09T14:01:12.757923Z",
     "iopub.status.idle": "2023-01-09T14:01:12.776051Z",
     "shell.execute_reply": "2023-01-09T14:01:12.774507Z"
    },
    "papermill": {
     "duration": 0.03813,
     "end_time": "2023-01-09T14:01:12.780181",
     "exception": false,
     "start_time": "2023-01-09T14:01:12.742051",
     "status": "completed"
    },
    "tags": []
   },
   "outputs": [
    {
     "name": "stdout",
     "output_type": "stream",
     "text": [
      "[[5.1 3.5 1.4 0.2]\n",
      " [4.9 3.  1.4 0.2]\n",
      " [4.7 3.2 1.3 0.2]\n",
      " [4.6 3.1 1.5 0.2]\n",
      " [5.  3.6 1.4 0.2]\n",
      " [5.4 3.9 1.7 0.4]\n",
      " [4.6 3.4 1.4 0.3]\n",
      " [5.  3.4 1.5 0.2]\n",
      " [4.4 2.9 1.4 0.2]\n",
      " [4.9 3.1 1.5 0.1]\n",
      " [5.4 3.7 1.5 0.2]\n",
      " [4.8 3.4 1.6 0.2]\n",
      " [4.8 3.  1.4 0.1]\n",
      " [4.3 3.  1.1 0.1]\n",
      " [5.8 4.  1.2 0.2]\n",
      " [5.7 4.4 1.5 0.4]\n",
      " [5.4 3.9 1.3 0.4]\n",
      " [5.1 3.5 1.4 0.3]\n",
      " [5.7 3.8 1.7 0.3]\n",
      " [5.1 3.8 1.5 0.3]\n",
      " [5.4 3.4 1.7 0.2]\n",
      " [5.1 3.7 1.5 0.4]\n",
      " [4.6 3.6 1.  0.2]\n",
      " [5.1 3.3 1.7 0.5]\n",
      " [4.8 3.4 1.9 0.2]\n",
      " [5.  3.  1.6 0.2]\n",
      " [5.  3.4 1.6 0.4]\n",
      " [5.2 3.5 1.5 0.2]\n",
      " [5.2 3.4 1.4 0.2]\n",
      " [4.7 3.2 1.6 0.2]\n",
      " [4.8 3.1 1.6 0.2]\n",
      " [5.4 3.4 1.5 0.4]\n",
      " [5.2 4.1 1.5 0.1]\n",
      " [5.5 4.2 1.4 0.2]\n",
      " [4.9 3.1 1.5 0.2]\n",
      " [5.  3.2 1.2 0.2]\n",
      " [5.5 3.5 1.3 0.2]\n",
      " [4.9 3.6 1.4 0.1]\n",
      " [4.4 3.  1.3 0.2]\n",
      " [5.1 3.4 1.5 0.2]\n",
      " [5.  3.5 1.3 0.3]\n",
      " [4.5 2.3 1.3 0.3]\n",
      " [4.4 3.2 1.3 0.2]\n",
      " [5.  3.5 1.6 0.6]\n",
      " [5.1 3.8 1.9 0.4]\n",
      " [4.8 3.  1.4 0.3]\n",
      " [5.1 3.8 1.6 0.2]\n",
      " [4.6 3.2 1.4 0.2]\n",
      " [5.3 3.7 1.5 0.2]\n",
      " [5.  3.3 1.4 0.2]\n",
      " [7.  3.2 4.7 1.4]\n",
      " [6.4 3.2 4.5 1.5]\n",
      " [6.9 3.1 4.9 1.5]\n",
      " [5.5 2.3 4.  1.3]\n",
      " [6.5 2.8 4.6 1.5]\n",
      " [5.7 2.8 4.5 1.3]\n",
      " [6.3 3.3 4.7 1.6]\n",
      " [4.9 2.4 3.3 1. ]\n",
      " [6.6 2.9 4.6 1.3]\n",
      " [5.2 2.7 3.9 1.4]\n",
      " [5.  2.  3.5 1. ]\n",
      " [5.9 3.  4.2 1.5]\n",
      " [6.  2.2 4.  1. ]\n",
      " [6.1 2.9 4.7 1.4]\n",
      " [5.6 2.9 3.6 1.3]\n",
      " [6.7 3.1 4.4 1.4]\n",
      " [5.6 3.  4.5 1.5]\n",
      " [5.8 2.7 4.1 1. ]\n",
      " [6.2 2.2 4.5 1.5]\n",
      " [5.6 2.5 3.9 1.1]\n",
      " [5.9 3.2 4.8 1.8]\n",
      " [6.1 2.8 4.  1.3]\n",
      " [6.3 2.5 4.9 1.5]\n",
      " [6.1 2.8 4.7 1.2]\n",
      " [6.4 2.9 4.3 1.3]\n",
      " [6.6 3.  4.4 1.4]\n",
      " [6.8 2.8 4.8 1.4]\n",
      " [6.7 3.  5.  1.7]\n",
      " [6.  2.9 4.5 1.5]\n",
      " [5.7 2.6 3.5 1. ]\n",
      " [5.5 2.4 3.8 1.1]\n",
      " [5.5 2.4 3.7 1. ]\n",
      " [5.8 2.7 3.9 1.2]\n",
      " [6.  2.7 5.1 1.6]\n",
      " [5.4 3.  4.5 1.5]\n",
      " [6.  3.4 4.5 1.6]\n",
      " [6.7 3.1 4.7 1.5]\n",
      " [6.3 2.3 4.4 1.3]\n",
      " [5.6 3.  4.1 1.3]\n",
      " [5.5 2.5 4.  1.3]\n",
      " [5.5 2.6 4.4 1.2]\n",
      " [6.1 3.  4.6 1.4]\n",
      " [5.8 2.6 4.  1.2]\n",
      " [5.  2.3 3.3 1. ]\n",
      " [5.6 2.7 4.2 1.3]\n",
      " [5.7 3.  4.2 1.2]\n",
      " [5.7 2.9 4.2 1.3]\n",
      " [6.2 2.9 4.3 1.3]\n",
      " [5.1 2.5 3.  1.1]\n",
      " [5.7 2.8 4.1 1.3]\n",
      " [6.3 3.3 6.  2.5]\n",
      " [5.8 2.7 5.1 1.9]\n",
      " [7.1 3.  5.9 2.1]\n",
      " [6.3 2.9 5.6 1.8]\n",
      " [6.5 3.  5.8 2.2]\n",
      " [7.6 3.  6.6 2.1]\n",
      " [4.9 2.5 4.5 1.7]\n",
      " [7.3 2.9 6.3 1.8]\n",
      " [6.7 2.5 5.8 1.8]\n",
      " [7.2 3.6 6.1 2.5]\n",
      " [6.5 3.2 5.1 2. ]\n",
      " [6.4 2.7 5.3 1.9]\n",
      " [6.8 3.  5.5 2.1]\n",
      " [5.7 2.5 5.  2. ]\n",
      " [5.8 2.8 5.1 2.4]\n",
      " [6.4 3.2 5.3 2.3]\n",
      " [6.5 3.  5.5 1.8]\n",
      " [7.7 3.8 6.7 2.2]\n",
      " [7.7 2.6 6.9 2.3]\n",
      " [6.  2.2 5.  1.5]\n",
      " [6.9 3.2 5.7 2.3]\n",
      " [5.6 2.8 4.9 2. ]\n",
      " [7.7 2.8 6.7 2. ]\n",
      " [6.3 2.7 4.9 1.8]\n",
      " [6.7 3.3 5.7 2.1]\n",
      " [7.2 3.2 6.  1.8]\n",
      " [6.2 2.8 4.8 1.8]\n",
      " [6.1 3.  4.9 1.8]\n",
      " [6.4 2.8 5.6 2.1]\n",
      " [7.2 3.  5.8 1.6]\n",
      " [7.4 2.8 6.1 1.9]\n",
      " [7.9 3.8 6.4 2. ]\n",
      " [6.4 2.8 5.6 2.2]\n",
      " [6.3 2.8 5.1 1.5]\n",
      " [6.1 2.6 5.6 1.4]\n",
      " [7.7 3.  6.1 2.3]\n",
      " [6.3 3.4 5.6 2.4]\n",
      " [6.4 3.1 5.5 1.8]\n",
      " [6.  3.  4.8 1.8]\n",
      " [6.9 3.1 5.4 2.1]\n",
      " [6.7 3.1 5.6 2.4]\n",
      " [6.9 3.1 5.1 2.3]\n",
      " [5.8 2.7 5.1 1.9]\n",
      " [6.8 3.2 5.9 2.3]\n",
      " [6.7 3.3 5.7 2.5]\n",
      " [6.7 3.  5.2 2.3]\n",
      " [6.3 2.5 5.  1.9]\n",
      " [6.5 3.  5.2 2. ]\n",
      " [6.2 3.4 5.4 2.3]\n",
      " [5.9 3.  5.1 1.8]]\n"
     ]
    }
   ],
   "source": [
    "# IRIS Data Set\n",
    "from sklearn import datasets\n",
    "iris = datasets.load_iris()\n",
    "print(iris.data)"
   ]
  },
  {
   "cell_type": "code",
   "execution_count": 5,
   "id": "f6ab0177",
   "metadata": {
    "execution": {
     "iopub.execute_input": "2023-01-09T14:01:12.813176Z",
     "iopub.status.busy": "2023-01-09T14:01:12.812668Z",
     "iopub.status.idle": "2023-01-09T14:01:12.819535Z",
     "shell.execute_reply": "2023-01-09T14:01:12.818339Z"
    },
    "papermill": {
     "duration": 0.026823,
     "end_time": "2023-01-09T14:01:12.823106",
     "exception": false,
     "start_time": "2023-01-09T14:01:12.796283",
     "status": "completed"
    },
    "tags": []
   },
   "outputs": [
    {
     "name": "stdout",
     "output_type": "stream",
     "text": [
      "[0 0 0 0 0 0 0 0 0 0 0 0 0 0 0 0 0 0 0 0 0 0 0 0 0 0 0 0 0 0 0 0 0 0 0 0 0\n",
      " 0 0 0 0 0 0 0 0 0 0 0 0 0 1 1 1 1 1 1 1 1 1 1 1 1 1 1 1 1 1 1 1 1 1 1 1 1\n",
      " 1 1 1 1 1 1 1 1 1 1 1 1 1 1 1 1 1 1 1 1 1 1 1 1 1 1 2 2 2 2 2 2 2 2 2 2 2\n",
      " 2 2 2 2 2 2 2 2 2 2 2 2 2 2 2 2 2 2 2 2 2 2 2 2 2 2 2 2 2 2 2 2 2 2 2 2 2\n",
      " 2 2]\n",
      "['setosa' 'versicolor' 'virginica']\n"
     ]
    }
   ],
   "source": [
    "print(iris.target)\n",
    "print(iris.target_names)"
   ]
  },
  {
   "cell_type": "code",
   "execution_count": 6,
   "id": "f573e686",
   "metadata": {
    "execution": {
     "iopub.execute_input": "2023-01-09T14:01:12.854057Z",
     "iopub.status.busy": "2023-01-09T14:01:12.853624Z",
     "iopub.status.idle": "2023-01-09T14:01:12.859736Z",
     "shell.execute_reply": "2023-01-09T14:01:12.858427Z"
    },
    "papermill": {
     "duration": 0.024191,
     "end_time": "2023-01-09T14:01:12.862531",
     "exception": false,
     "start_time": "2023-01-09T14:01:12.838340",
     "status": "completed"
    },
    "tags": []
   },
   "outputs": [
    {
     "name": "stdout",
     "output_type": "stream",
     "text": [
      "4\n"
     ]
    }
   ],
   "source": [
    "dimension = len(iris.data[0])\n",
    "print(dimension)"
   ]
  },
  {
   "cell_type": "code",
   "execution_count": 7,
   "id": "7d9aa4e8",
   "metadata": {
    "execution": {
     "iopub.execute_input": "2023-01-09T14:01:12.892738Z",
     "iopub.status.busy": "2023-01-09T14:01:12.892279Z",
     "iopub.status.idle": "2023-01-09T14:01:12.898147Z",
     "shell.execute_reply": "2023-01-09T14:01:12.896851Z"
    },
    "papermill": {
     "duration": 0.023846,
     "end_time": "2023-01-09T14:01:12.900542",
     "exception": false,
     "start_time": "2023-01-09T14:01:12.876696",
     "status": "completed"
    },
    "tags": []
   },
   "outputs": [],
   "source": [
    "seed = 98765 # any number\n",
    "algorithm_globals.random_seed = seed\n",
    "feature_map = ZZFeatureMap(feature_dimension=dimension, \n",
    "                           reps=2, entanglement=\"linear\")\n"
   ]
  },
  {
   "cell_type": "code",
   "execution_count": 8,
   "id": "4ec0b37f",
   "metadata": {
    "execution": {
     "iopub.execute_input": "2023-01-09T14:01:12.930485Z",
     "iopub.status.busy": "2023-01-09T14:01:12.930049Z",
     "iopub.status.idle": "2023-01-09T14:01:14.204336Z",
     "shell.execute_reply": "2023-01-09T14:01:14.203374Z"
    },
    "papermill": {
     "duration": 1.292229,
     "end_time": "2023-01-09T14:01:14.206937",
     "exception": false,
     "start_time": "2023-01-09T14:01:12.914708",
     "status": "completed"
    },
    "tags": []
   },
   "outputs": [],
   "source": [
    "backend = QuantumInstance(\n",
    "    BasicAer.get_backend(\"qasm_simulator\"), shots=1024, \n",
    "    seed_simulator=seed, seed_transpiler=seed\n",
    ")\n"
   ]
  },
  {
   "cell_type": "code",
   "execution_count": 9,
   "id": "283ee3b1",
   "metadata": {
    "execution": {
     "iopub.execute_input": "2023-01-09T14:01:14.237947Z",
     "iopub.status.busy": "2023-01-09T14:01:14.237442Z",
     "iopub.status.idle": "2023-01-09T14:03:40.743545Z",
     "shell.execute_reply": "2023-01-09T14:03:40.742133Z"
    },
    "papermill": {
     "duration": 146.554709,
     "end_time": "2023-01-09T14:03:40.776232",
     "exception": false,
     "start_time": "2023-01-09T14:01:14.221523",
     "status": "completed"
    },
    "tags": []
   },
   "outputs": [
    {
     "data": {
      "text/plain": [
       "QSVC(C=1.0, break_ties=False, cache_size=200, class_weight=None, coef0=0.0,\n",
       "     decision_function_shape='ovr', degree=3, gamma='scale', max_iter=-1,\n",
       "     probability=False,\n",
       "     quantum_kernel=<qiskit_machine_learning.kernels.quantum_kernel.QuantumKernel object at 0x7f380d172cd0>,\n",
       "     random_state=98765, shrinking=True, tol=0.001, verbose=False)"
      ]
     },
     "execution_count": 9,
     "metadata": {},
     "output_type": "execute_result"
    }
   ],
   "source": [
    "kernel = QuantumKernel(feature_map=feature_map, \n",
    "                       quantum_instance=backend)\n",
    "qsvc = QSVC(quantum_kernel=kernel)\n",
    "qsvc.fit(iris.data,iris.target)"
   ]
  },
  {
   "cell_type": "code",
   "execution_count": 10,
   "id": "10a1f9e6",
   "metadata": {
    "execution": {
     "iopub.execute_input": "2023-01-09T14:03:40.807843Z",
     "iopub.status.busy": "2023-01-09T14:03:40.806571Z",
     "iopub.status.idle": "2023-01-09T14:03:44.880317Z",
     "shell.execute_reply": "2023-01-09T14:03:44.878374Z"
    },
    "papermill": {
     "duration": 4.093423,
     "end_time": "2023-01-09T14:03:44.883735",
     "exception": false,
     "start_time": "2023-01-09T14:03:40.790312",
     "status": "completed"
    },
    "tags": []
   },
   "outputs": [
    {
     "name": "stdout",
     "output_type": "stream",
     "text": [
      "[0 2]\n"
     ]
    }
   ],
   "source": [
    "print(qsvc.predict([[4.0, 6.3, 2.5, 0.1], \n",
    "                    [5.0, 1.9, 6.2, 2.7]]))"
   ]
  },
  {
   "cell_type": "code",
   "execution_count": null,
   "id": "9c52008c",
   "metadata": {
    "papermill": {
     "duration": 0.015379,
     "end_time": "2023-01-09T14:03:44.918039",
     "exception": false,
     "start_time": "2023-01-09T14:03:44.902660",
     "status": "completed"
    },
    "tags": []
   },
   "outputs": [],
   "source": []
  }
 ],
 "metadata": {
  "kernelspec": {
   "display_name": "Python 3",
   "language": "python",
   "name": "python3"
  },
  "language_info": {
   "codemirror_mode": {
    "name": "ipython",
    "version": 3
   },
   "file_extension": ".py",
   "mimetype": "text/x-python",
   "name": "python",
   "nbconvert_exporter": "python",
   "pygments_lexer": "ipython3",
   "version": "3.7.12"
  },
  "papermill": {
   "default_parameters": {},
   "duration": 224.713076,
   "end_time": "2023-01-09T14:03:45.960797",
   "environment_variables": {},
   "exception": null,
   "input_path": "__notebook__.ipynb",
   "output_path": "__notebook__.ipynb",
   "parameters": {},
   "start_time": "2023-01-09T14:00:01.247721",
   "version": "2.3.4"
  }
 },
 "nbformat": 4,
 "nbformat_minor": 5
}
